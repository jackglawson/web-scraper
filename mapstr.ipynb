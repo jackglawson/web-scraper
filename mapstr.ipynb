{
 "cells": [
  {
   "cell_type": "code",
   "execution_count": 1,
   "metadata": {},
   "outputs": [],
   "source": [
    "from load_mapstr import load_most_recent\n",
    "from place import Place"
   ]
  },
  {
   "cell_type": "code",
   "execution_count": 2,
   "metadata": {},
   "outputs": [],
   "source": [
    "places = load_most_recent()"
   ]
  },
  {
   "cell_type": "code",
   "execution_count": 3,
   "metadata": {},
   "outputs": [
    {
     "data": {
      "text/plain": [
       "[Place(address='1720 Quinta da Cancela Rua da Liberdade, 695, São Lourenço de Sande, Guimarães', tags='FamilyHotel2018'),\n",
       " Place(address='1937 Coffee bar Κλειτιου 1β, Athina 105 60, Grèce', tags='AnnaBarCocktailCafeArea2020'),\n",
       " Place(address='65 Jesus Lane 65 Jesus Lane, Cambridge Cambridge CB5 8BS', tags='Home2017'),\n",
       " Place(address='Adamas Hotel Αδάμαντας', tags='HotelAnna2020'),\n",
       " Place(address='Arenal Paraiso Resort & Spa 7 Km Oeste de la Iglesia de la Fortuna', tags='HotelFamily2017'),\n",
       " Place(address=\"Aspen House 154 Rue Nicolas Bazile 73150 Val-d'Isère France\", tags='Work2019'),\n",
       " Place(address='Blues Kitchen Camden - Drinks Tables 111-113 Camden High Street, London NW1 7JN', tags='2018AnnaBarLive musicCocktail'),\n",
       " Place(address=\"Brick Lane Rue des Barmettes 73150 Val-d'Isère France\", tags='Home2019'),\n",
       " Place(address='Broad How Broad How Penrith England CA11 United Kingdom', tags='AnnaFamilyHotel2020'),\n",
       " Place(address='Brondo Architect Hotel Carrer Can Brondo, 4 07001 Sant Nicolau Palma Spain', tags='AnnaHotel2019'),\n",
       " Place(address=\"Ca' del Dose Calle del Dose, 5881, Castello, 30122 Venice, Italy\", tags='2016FamilyHotel'),\n",
       " Place(address='Catamaran Resort Hotel and Spa 3999 Mission Blvd, San Diego, CA 92109, USA', tags='2015FamilyHotel'),\n",
       " Place(address='Central Backpackers Hostel - Catba Đập Nước, Khu Phố 1, thị trấn Cát Bà, TT. Cát Bà, Thị trấn Cát Bà, Hải Phòng 180000, Vietnam', tags='2017Hotel'),\n",
       " Place(address='Chillout Hostel Zagreb Ilica 16', tags='2016InterrailersHotel'),\n",
       " Place(address=\"Coco Ricos Place du Rond-Point des Pistes 73150 Val-d'Isère France\", tags='BarLive music2019'),\n",
       " Place(address='Crepe Pancake Hut Jogiwara Rd, McLeod Ganj, Dharamshala, Himachal Pradesh 176219, India', tags='RestaurantAnnaCafe2018'),\n",
       " Place(address='Cuore Rosso 844 00 Paros Greece', tags='PizzaRestaurantAnna2020'),\n",
       " Place(address=\"D4 Christ's Pieces, Cambridge, CB1 1, United Kingdom\", tags='Home2018'),\n",
       " Place(address='De Pijp Albert Cuypstraat 228 1073 BN Amsterdam Netherlands', tags='AreaAnnaFamilyRestaurant2019'),\n",
       " Place(address='Deep Blue Studios Logaras', tags='HotelFamilyAnna2020'),\n",
       " Place(address='Dovento by Feelviana Cabedelo - Viana do Castelo, 4935-089 Darque', tags='FamilyHotel2018'),\n",
       " Place(address='Easy Tiger 20 Xã Sơn Trạch, Huyện Bố Trạch Vietnam', tags='2017Hotel'),\n",
       " Place(address='Fairfield by Marriott Amritsar Albert Road, Amritsar Punjab 143001', tags='AnnaHotel2018'),\n",
       " Place(address='Falafellas Aiolou 51 105 51 Athina Greece', tags='AnnaRestaurant2020'),\n",
       " Place(address='Four Points by Sheraton Jaipur, City Square City Square, Vasundhara Colony, Tonk Road, Kirti Nagar, Vasundhara Colony, Gopal Pura Mode, Jaipur, Rajasthan 302018, Inde', tags='HotelAnna2018'),\n",
       " Place(address='Glebe House Groveley Road, Barford St Martin Salisbury SP3 4AF', tags='HotelFriend2020'),\n",
       " Place(address='Granello Pizza Περικλέους 18, Αθήνα 105 62, Ελλάδα', tags='AnnaRestaurant2020'),\n",
       " Place(address='Hacienda Ses Caletes, Ibiza 07810 Cala de Sant Vicent, Balearic Islands, Spanje', tags='2016FamilyHotel'),\n",
       " Place(address='Hanoi Central Backpackers Hostel 16 Thanh Ha Street, Hoan Kiem District', tags='2017'),\n",
       " Place(address='Hayfield Camping and Caravanning Club Site Kinder Road Hayfield High Peak SK22 2LE United Kingdom', tags='HikingConor and rishiCamping2019'),\n",
       " Place(address='Hostel Santini Prague Nerudova 14', tags='2016HotelInterrailers'),\n",
       " Place(address='HOSTEL SPLIT Poljana kneza Trpimira 1, 21000, Split, Croatia', tags='InterrailersHotel2016'),\n",
       " Place(address='Hotel Van Gogh Van de Veldestraat 5 1071 CW Amsterdam Netherlands', tags='2016HotelInterrailers'),\n",
       " Place(address='IMC Amstelveenseweg 500, 1081 KL Amsterdam, Netherlands', tags='Work'),\n",
       " Place(address='Internship Home George Gershwinlaan 530–534 1082 MT Amsterdam Netherlands', tags='HomeWork2019'),\n",
       " Place(address='ITC Mughal, a Luxury Collection Resort & Spa, Agra Taj Ganj, Agra Uttar Pradesh 282001', tags='AnnaHotel2018'),\n",
       " Place(address='ITC Sonar, a Luxury Collection Hotel, Kolkata Jbs Haldane Avenue, Kolkata West Bengal 700046', tags='HotelAnna2018'),\n",
       " Place(address='Jagjeets Himalayan Retreat Darjeeling 734101 WB India', tags='AnnaHotel2018'),\n",
       " Place(address=\"Joey's Hostel 1/49 Lalita Park, Laxmi Nagar, Main Vikas Marg, Lalita Park, Laxmi Nagar, New Delhi, Delhi 110092, India\", tags='AnnaHotel2018'),\n",
       " Place(address='Kiosk Radio Place des Palais 10, 1000 Bruxelles, Belgique', tags='BeerMusicOutsideAnna2020'),\n",
       " Place(address='Kokopelli WarmoesStraat 12 1012 JD Amsterdam Netherlands', tags='AnnaCafe2019'),\n",
       " Place(address='Kotsikas Moto Adamas, 84800 Mílos, Greece', tags='AnnaRental2020'),\n",
       " Place(address='Kôprovský štít 059 85, Vysoké Tatry, Slovakia', tags='Conor and rishi2018Hiking'),\n",
       " Place(address='La Perla - Amsterdam Tweede TuinDwarsstraat 1015 RX Amsterdam Netherlands', tags='PizzaAnnaFamilyRestaurant2019'),\n",
       " Place(address='Las Dunas Playa Carretera de la mola, Km 11, 07872, Islas Baleares, Espanya', tags='2016FamilyHotel'),\n",
       " Place(address='Le Cheval Blanc Rue du Soleil, 73440 Saint-Martin-de-Belleville, France', tags='2016SkiingHotel'),\n",
       " Place(address='Logan Rock Inn St Levan Penzance TR19 6 United Kingdom', tags='BarFamily'),\n",
       " Place(address='Maquenque Eco Lodge Alajuela, San Carlos, Costa Rica', tags='2017FamilyHotel'),\n",
       " Place(address='Marisa Rooms Livadia, Parikia', tags='AnnaHotel2020'),\n",
       " Place(address='Maverick City Lodge Kazinczy utca 1075 Budapest Hungary', tags='2016HotelInterrailers'),\n",
       " Place(address='Medusa Mandrakia 848 00 Milos Greece', tags='RestaurantAnna2020'),\n",
       " Place(address='Meze Meze 843 00 Naxos Greece', tags='RestaurantAnna2020'),\n",
       " Place(address='Nazos Hotel School of Fine Arts, Île de Mykonos, Grèce', tags='AnnaHotel2020'),\n",
       " Place(address='Nikos Verikokos Studios ΑΓΙΑ ΠΑΡΑΣΚΕΥΗ, Naxos 843 00, Grèce', tags='AnnaHotel2020'),\n",
       " Place(address='Olas Verdes Hotel 500m West and 350m South of Cafe de Paris, Playa Guiones, Provincia de Guanacaste, Nosara, 50206, Costa Rica', tags='2017FamilyHotel'),\n",
       " Place(address='Pacuare Lodge Costa Rica 413 La Suiza, 30502 Costa Rica', tags='2017FamilyHotel'),\n",
       " Place(address='Pfefferbett Hostel ChristinenStraße 18 Prenzlauer Berg, 10119 Berlin Germany', tags='2016HotelInterrailers'),\n",
       " Place(address='Piso Livadi 84401 Piso Livadi Greece', tags='AnnaFamilyRestaurant2020'),\n",
       " Place(address='Pollonia Pollonia beach, Milos', tags='RestaurantAreaAnna2020'),\n",
       " Place(address='Powerboat Training UK Cobbs Quay Marina, Woodlands Ave, BH15 4EL Poole, UK', tags='WatersportsFamily2020'),\n",
       " Place(address=\"Residance La Source D'Aulps 72 Route du Téléphérique de Nyon, 74110 Morzine, France\", tags='2016HotelSkiingFamily'),\n",
       " Place(address='Room 2.19 50B King Street Cambridge England CB1 1LN United Kingdom', tags='Home2016'),\n",
       " Place(address='Sax Hostel Eipprova Ulica 7 1000 Ljubljana Slovenia', tags='2016HotelInterrailers'),\n",
       " Place(address='Sea Breeze 5 Burrow Road St Ives England TR26 1NU United Kingdom', tags='Home'),\n",
       " Place(address='Select Hôtel Rive Gauche 1 place de la Sorbonne, Paris, 75005, France', tags='AnnaHotel2018'),\n",
       " Place(address='Skiing Samoëns, France', tags='2018InterrailersSkiing'),\n",
       " Place(address='Tarifa Beach Beach Los Lances, 11380, Cádiz, Spain', tags='KitesurfingFamily2017'),\n",
       " Place(address='Thanh Phat Hotel Cửa Tùng, Thị Trấn, Vĩnh Linh, Quảng Trị 522146, Vietnam', tags='2017Hotel'),\n",
       " Place(address='The Athens Green Suites Klitiou 5', tags='AnnaHotel2020'),\n",
       " Place(address='The Hoxton, Amsterdam Herengracht 255 1016 BJ Amsterdam Netherlands', tags='FamilyHotelBar2019'),\n",
       " Place(address='The Locker Cafe 54 King Street Cambridge Cambridge CB1 1LN United Kingdom', tags='CafeAnna'),\n",
       " Place(address='The Pink House Bhagsu Nag, Dharamshala, Himachal Pradesh 176219, India', tags='AnnaHotel2018'),\n",
       " Place(address='The White Harte Bristol 54-58 Park Row, Bristol Bristol BS1 5LH', tags='Ben TBarPizza2019'),\n",
       " Place(address='Torre del Tartufo Località Il Podere, 56, 52010 Chiaveretto AR, Italy', tags='FamilyHotel2013'),\n",
       " Place(address='Tourotel de Val Thorens Place de la Lombarde, Val Thorens, France', tags='Conor and rishiAnnaSkiingHotel2018'),\n",
       " Place(address='Vacancéole - Le Borsat IV Rue du Val Claret, 73320 Tignes Val Claret, France', tags='2017AnnaConor and rishiSkiing'),\n",
       " Place(address='Vejer de la Frontera 11150 Vejer de la Frontera, Cádiz, Spain', tags='2017Family'),\n",
       " Place(address='Viavia Quai aux Briques 74 1000 Brussels Belgium', tags='BeerLive musicBarAnna2020'),\n",
       " Place(address='Vietnam Backpacker Hostels - Downtown 9 Phố Mã Mây Quận Hoàn Kiếm, Hà Nội Vietnam', tags='2017Hotel'),\n",
       " Place(address='Vietnam Backpacker Hostels - Hoi an 250 Đường Cửa Đại Phường Cẩm Châu, Thành Phố Hội An Vietnam', tags='2017Hotel'),\n",
       " Place(address='Vincci Porto Rua Alameda Basilio Teles, 26 / 33', tags='FamilyHotel2018'),\n",
       " Place(address='Wahweap RV & Campground Lake Shore Dr, Page, AZ 86040, EE. UU.', tags='2015Family'),\n",
       " Place(address='White Lion Inn Patterdale, Penrith CA11 0NW, Royaume-Uni', tags='BarAnnaFamily2020'),\n",
       " Place(address='Why Not Hotel Hue 26 Pham Ngu Lao, Hue, Phú Hội, Hue city, Thừa Thiên Huế 530000, Vietnam', tags='2017Hotel'),\n",
       " Place(address=\"Wombat's Mariahilfer Str. 137, 1150 Wien, Oostenrijk\", tags='2016HotelInterrailers'),\n",
       " Place(address='YHA Wells-next-the-Sea Church Plain, Wells-Next-The-Sea, Royaume-Uni', tags='HotelConor and rishiHiking2019')]"
      ]
     },
     "execution_count": 3,
     "metadata": {},
     "output_type": "execute_result"
    }
   ],
   "source": [
    "places"
   ]
  },
  {
   "cell_type": "code",
   "execution_count": null,
   "metadata": {},
   "outputs": [],
   "source": []
  }
 ],
 "metadata": {
  "kernelspec": {
   "display_name": "Python 3",
   "language": "python",
   "name": "python3"
  },
  "language_info": {
   "codemirror_mode": {
    "name": "ipython",
    "version": 3
   },
   "file_extension": ".py",
   "mimetype": "text/x-python",
   "name": "python",
   "nbconvert_exporter": "python",
   "pygments_lexer": "ipython3",
   "version": "3.8.1"
  }
 },
 "nbformat": 4,
 "nbformat_minor": 4
}
